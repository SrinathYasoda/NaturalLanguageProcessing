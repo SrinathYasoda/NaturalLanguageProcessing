{
 "cells": [
  {
   "cell_type": "code",
   "execution_count": 1,
   "metadata": {},
   "outputs": [
    {
     "ename": "OperationalError",
     "evalue": "no such table: sentiment_fts",
     "output_type": "error",
     "traceback": [
      "\u001b[1;31m---------------------------------------------------------------------------\u001b[0m",
      "\u001b[1;31mOperationalError\u001b[0m                          Traceback (most recent call last)",
      "\u001b[1;32m<ipython-input-1-83f9fe7819ed>\u001b[0m in \u001b[0;36m<module>\u001b[1;34m\u001b[0m\n\u001b[0;32m     16\u001b[0m \u001b[1;33m\u001b[0m\u001b[0m\n\u001b[0;32m     17\u001b[0m \u001b[0msql\u001b[0m\u001b[1;33m=\u001b[0m\u001b[1;34m\"DELETE FROM sentiment_fts WHERE rowid IN (SELECT id FROM sentiment WHERE unix< {})\"\u001b[0m\u001b[1;33m.\u001b[0m\u001b[0mformat\u001b[0m\u001b[1;33m(\u001b[0m\u001b[0mdel_to\u001b[0m\u001b[1;33m)\u001b[0m\u001b[1;33m\u001b[0m\u001b[1;33m\u001b[0m\u001b[0m\n\u001b[1;32m---> 18\u001b[1;33m \u001b[0mc\u001b[0m\u001b[1;33m.\u001b[0m\u001b[0mexecute\u001b[0m\u001b[1;33m(\u001b[0m\u001b[0msql\u001b[0m\u001b[1;33m)\u001b[0m\u001b[1;33m\u001b[0m\u001b[1;33m\u001b[0m\u001b[0m\n\u001b[0m\u001b[0;32m     19\u001b[0m \u001b[1;33m\u001b[0m\u001b[0m\n\u001b[0;32m     20\u001b[0m \u001b[0msql\u001b[0m\u001b[1;33m=\u001b[0m\u001b[1;34m\"DELETE FROM sentiment WHERE unix <{}\"\u001b[0m\u001b[1;33m.\u001b[0m\u001b[0mformat\u001b[0m\u001b[1;33m(\u001b[0m\u001b[0mdel_to\u001b[0m\u001b[1;33m)\u001b[0m\u001b[1;33m\u001b[0m\u001b[1;33m\u001b[0m\u001b[0m\n",
      "\u001b[1;31mOperationalError\u001b[0m: no such table: sentiment_fts"
     ]
    }
   ],
   "source": [
    "'''\n",
    "Run as cronjob to keep database size under control\n",
    "'''\n",
    "\n",
    "import time\n",
    "import sqlite3\n",
    "\n",
    "\n",
    "conn=sqlite3.connect('Twitter_storage.db',check_same_thread=False)\n",
    "c=conn.cursor()\n",
    "\n",
    "HM_DAYS_KEEP=3\n",
    "current_ms_time=time.time()*1000\n",
    "one_day=86400*1000\n",
    "del_to=int(current_ms_time -(HM_DAYS_KEEP*one_day))\n",
    "\n",
    "sql=\"DELETE FROM sentiment_fts WHERE rowid IN (SELECT id FROM sentiment WHERE unix< {})\".format(del_to)\n",
    "c.execute(sql)\n",
    "\n",
    "sql=\"DELETE FROM sentiment WHERE unix <{}\".format(del_to)\n",
    "c.execute(sql)\n",
    "\n",
    "#you will need to vaccum if you ever to a bulk delete.\n",
    "#c.execute(\"VACCUM\")\n",
    "\n",
    "conn.commit()\n",
    "conn.close()"
   ]
  },
  {
   "cell_type": "code",
   "execution_count": null,
   "metadata": {},
   "outputs": [],
   "source": []
  }
 ],
 "metadata": {
  "kernelspec": {
   "display_name": "Python 3",
   "language": "python",
   "name": "python3"
  },
  "language_info": {
   "codemirror_mode": {
    "name": "ipython",
    "version": 3
   },
   "file_extension": ".py",
   "mimetype": "text/x-python",
   "name": "python",
   "nbconvert_exporter": "python",
   "pygments_lexer": "ipython3",
   "version": "3.8.3"
  }
 },
 "nbformat": 4,
 "nbformat_minor": 4
}
